{
  "nbformat": 4,
  "nbformat_minor": 0,
  "metadata": {
    "colab": {
      "name": "Program_Flow_In_Python.ipynb",
      "version": "0.3.2",
      "provenance": []
    },
    "language_info": {
      "codemirror_mode": {
        "name": "ipython",
        "version": 3
      },
      "file_extension": ".py",
      "mimetype": "text/x-python",
      "name": "python",
      "nbconvert_exporter": "python",
      "pygments_lexer": "ipython3",
      "version": "3.6.3"
    },
    "kernelspec": {
      "display_name": "Python 3",
      "language": "python",
      "name": "python3"
    }
  },
  "cells": [
    {
      "cell_type": "code",
      "metadata": {
        "id": "UM73RSNTjyS1",
        "colab_type": "code",
        "colab": {},
        "outputId": "a55d9192-a933-4619-88ee-a80292db5bd1"
      },
      "source": [
        "name = input(\"Enter your name:\")\n",
        "print(\"Name is: \" +name)"
      ],
      "execution_count": 0,
      "outputs": [
        {
          "output_type": "stream",
          "text": [
            "Enter your name:Sumit\n",
            "Name is: Sumit\n"
          ],
          "name": "stdout"
        }
      ]
    },
    {
      "cell_type": "code",
      "metadata": {
        "id": "xNwgSXW5jyS-",
        "colab_type": "code",
        "colab": {}
      },
      "source": [
        "names = [\"ben\", \"chen\", \"Yaqin\"]"
      ],
      "execution_count": 0,
      "outputs": []
    },
    {
      "cell_type": "code",
      "metadata": {
        "id": "qTeDxSshjyTC",
        "colab_type": "code",
        "colab": {}
      },
      "source": [
        "abc = names[-1]"
      ],
      "execution_count": 0,
      "outputs": []
    },
    {
      "cell_type": "code",
      "metadata": {
        "id": "gd_liEIujyTE",
        "colab_type": "code",
        "colab": {},
        "outputId": "71e4dcba-f73e-4125-8db4-7fa5db8a4a60"
      },
      "source": [
        "abc"
      ],
      "execution_count": 0,
      "outputs": [
        {
          "output_type": "execute_result",
          "data": {
            "text/plain": [
              "'Yaqin'"
            ]
          },
          "metadata": {
            "tags": []
          },
          "execution_count": 4
        }
      ]
    },
    {
      "cell_type": "code",
      "metadata": {
        "id": "0tHUjG2njyTI",
        "colab_type": "code",
        "colab": {},
        "outputId": "2a9ab1b6-5c6d-484e-f88e-11853a365631"
      },
      "source": [
        "abc[2:]"
      ],
      "execution_count": 0,
      "outputs": [
        {
          "output_type": "execute_result",
          "data": {
            "text/plain": [
              "'qin'"
            ]
          },
          "metadata": {
            "tags": []
          },
          "execution_count": 5
        }
      ]
    },
    {
      "cell_type": "code",
      "metadata": {
        "id": "t7S_LsD1jyTO",
        "colab_type": "code",
        "colab": {}
      },
      "source": [
        ""
      ],
      "execution_count": 0,
      "outputs": []
    },
    {
      "cell_type": "code",
      "metadata": {
        "id": "1i4AzApNjyTT",
        "colab_type": "code",
        "colab": {}
      },
      "source": [
        "smiles=\"Sumit Kumar u. Yadav\"\n"
      ],
      "execution_count": 0,
      "outputs": []
    },
    {
      "cell_type": "code",
      "metadata": {
        "id": "6KaBHQ7JjyTW",
        "colab_type": "code",
        "colab": {},
        "outputId": "b3ecb414-f0ad-4a3d-c737-6057f6593fb8"
      },
      "source": [
        "smiles"
      ],
      "execution_count": 0,
      "outputs": [
        {
          "output_type": "execute_result",
          "data": {
            "text/plain": [
              "'Sumit Kumar u. Yadav'"
            ]
          },
          "metadata": {
            "tags": []
          },
          "execution_count": 7
        }
      ]
    },
    {
      "cell_type": "code",
      "metadata": {
        "id": "WxEO0r0NjyTZ",
        "colab_type": "code",
        "colab": {},
        "outputId": "51822ff3-b0c1-46a8-859f-ee81f494c2fc"
      },
      "source": [
        "smiles.find(\".\",14)\n"
      ],
      "execution_count": 0,
      "outputs": [
        {
          "output_type": "execute_result",
          "data": {
            "text/plain": [
              "-1"
            ]
          },
          "metadata": {
            "tags": []
          },
          "execution_count": 8
        }
      ]
    },
    {
      "cell_type": "code",
      "metadata": {
        "id": "48FsOvOpjyTe",
        "colab_type": "code",
        "colab": {},
        "outputId": "d2bc7556-5389-44d3-be24-b7e66addf77e"
      },
      "source": [
        "smiles.split()"
      ],
      "execution_count": 0,
      "outputs": [
        {
          "output_type": "execute_result",
          "data": {
            "text/plain": [
              "['Sumit', 'Kumar', 'u.', 'Yadav']"
            ]
          },
          "metadata": {
            "tags": []
          },
          "execution_count": 9
        }
      ]
    },
    {
      "cell_type": "code",
      "metadata": {
        "id": "-gY8jZU2jyTl",
        "colab_type": "code",
        "colab": {},
        "outputId": "935bc46d-18f3-4d80-b95d-b3c33be09c42"
      },
      "source": [
        "if \"Br\" in \"Brother\":\n",
        "    print(\"contains brother\")"
      ],
      "execution_count": 0,
      "outputs": [
        {
          "output_type": "stream",
          "text": [
            "contains brother\n"
          ],
          "name": "stdout"
        }
      ]
    },
    {
      "cell_type": "code",
      "metadata": {
        "id": "iE_GUH-OjyTp",
        "colab_type": "code",
        "colab": {}
      },
      "source": [
        "if \"Br \" in \"Brother\":\n",
        "    print(\"contains brother\")"
      ],
      "execution_count": 0,
      "outputs": []
    },
    {
      "cell_type": "code",
      "metadata": {
        "id": "ERXqoMvfjyTs",
        "colab_type": "code",
        "colab": {},
        "outputId": "0e0345bc-89c6-4cb3-90d2-5f350ab72c31"
      },
      "source": [
        "email_address = input(\"Enter the email id: \")\n",
        "user_id = email_address.find(\"@\")\n",
        "print(user_id)\n",
        "print(\"user id is: \" + email_address[:user_id])"
      ],
      "execution_count": 0,
      "outputs": [
        {
          "output_type": "stream",
          "text": [
            "Enter the email id: sahdvsagda@gmail.com\n",
            "10\n",
            "user id is: sahdvsagda\n"
          ],
          "name": "stdout"
        }
      ]
    },
    {
      "cell_type": "code",
      "metadata": {
        "id": "g8VvSKo2jyTw",
        "colab_type": "code",
        "colab": {}
      },
      "source": [
        "line = \" # This is a comment line \\n\""
      ],
      "execution_count": 0,
      "outputs": []
    },
    {
      "cell_type": "code",
      "metadata": {
        "id": "3NY3nkxijyTz",
        "colab_type": "code",
        "colab": {},
        "outputId": "57a0b537-4397-48ee-b1ea-852e93b0b139"
      },
      "source": [
        "line.strip()"
      ],
      "execution_count": 0,
      "outputs": [
        {
          "output_type": "execute_result",
          "data": {
            "text/plain": [
              "'# This is a comment line'"
            ]
          },
          "metadata": {
            "tags": []
          },
          "execution_count": 14
        }
      ]
    },
    {
      "cell_type": "code",
      "metadata": {
        "id": "2wGqhdsljyT5",
        "colab_type": "code",
        "colab": {},
        "outputId": "46015f7a-c323-4d0f-eca6-b4ff484f5bd8"
      },
      "source": [
        "len(line.strip())"
      ],
      "execution_count": 0,
      "outputs": [
        {
          "output_type": "execute_result",
          "data": {
            "text/plain": [
              "24"
            ]
          },
          "metadata": {
            "tags": []
          },
          "execution_count": 15
        }
      ]
    },
    {
      "cell_type": "code",
      "metadata": {
        "id": "Oh9ZKYUOjyUA",
        "colab_type": "code",
        "colab": {},
        "outputId": "c70dd10c-d825-405c-b446-e97fff11158e"
      },
      "source": [
        "line.rstrip(\"\\n\")"
      ],
      "execution_count": 0,
      "outputs": [
        {
          "output_type": "execute_result",
          "data": {
            "text/plain": [
              "' # This is a comment line '"
            ]
          },
          "metadata": {
            "tags": []
          },
          "execution_count": 16
        }
      ]
    },
    {
      "cell_type": "code",
      "metadata": {
        "id": "Am-lIM5djyUE",
        "colab_type": "code",
        "colab": {},
        "outputId": "5f9b2813-f577-4f5c-c69d-014b26491877"
      },
      "source": [
        "len(line.rstrip())"
      ],
      "execution_count": 0,
      "outputs": [
        {
          "output_type": "execute_result",
          "data": {
            "text/plain": [
              "25"
            ]
          },
          "metadata": {
            "tags": []
          },
          "execution_count": 17
        }
      ]
    },
    {
      "cell_type": "code",
      "metadata": {
        "id": "uSHgXCEYjyUJ",
        "colab_type": "code",
        "colab": {},
        "outputId": "3a0b4d18-dfd2-45f4-8df7-cc75831e5150"
      },
      "source": [
        "line.lstrip()"
      ],
      "execution_count": 0,
      "outputs": [
        {
          "output_type": "execute_result",
          "data": {
            "text/plain": [
              "'# This is a comment line \\n'"
            ]
          },
          "metadata": {
            "tags": []
          },
          "execution_count": 18
        }
      ]
    },
    {
      "cell_type": "code",
      "metadata": {
        "id": "dMXdD1lijyUV",
        "colab_type": "code",
        "colab": {},
        "outputId": "1be66fff-9196-412f-bdae-d36f70aa65bf"
      },
      "source": [
        "len(line.lstrip())"
      ],
      "execution_count": 0,
      "outputs": [
        {
          "output_type": "execute_result",
          "data": {
            "text/plain": [
              "26"
            ]
          },
          "metadata": {
            "tags": []
          },
          "execution_count": 19
        }
      ]
    },
    {
      "cell_type": "code",
      "metadata": {
        "id": "O9HPLnzQjyUZ",
        "colab_type": "code",
        "colab": {}
      },
      "source": [
        "line = \" Google LLC is an American multinational technology company that specializes in Internet-related services and products. which include online advertising technologies, search engine, cloud computing, software, and hardware. \""
      ],
      "execution_count": 0,
      "outputs": []
    },
    {
      "cell_type": "code",
      "metadata": {
        "id": "OiHZGjkRjyUe",
        "colab_type": "code",
        "colab": {},
        "outputId": "05da89d8-685d-4a7b-b2f5-fc591194191c"
      },
      "source": [
        "print(line)\n",
        "line = line.strip()\n",
        "abc = line.split(\".\")\n",
        "#print(abc)\n"
      ],
      "execution_count": 0,
      "outputs": [
        {
          "output_type": "stream",
          "text": [
            " Google LLC is an American multinational technology company that specializes in Internet-related services and products. which include online advertising technologies, search engine, cloud computing, software, and hardware. \n"
          ],
          "name": "stdout"
        }
      ]
    },
    {
      "cell_type": "code",
      "metadata": {
        "id": "NDGEUvmDjyUl",
        "colab_type": "code",
        "colab": {}
      },
      "source": [
        "word = (abc[0].split(\" \"))"
      ],
      "execution_count": 0,
      "outputs": []
    },
    {
      "cell_type": "code",
      "metadata": {
        "id": "HVSGeZOOjyUn",
        "colab_type": "code",
        "colab": {},
        "outputId": "af576c7a-4c23-41c0-e06d-75794a7cf750"
      },
      "source": [
        "word[0]"
      ],
      "execution_count": 0,
      "outputs": [
        {
          "output_type": "execute_result",
          "data": {
            "text/plain": [
              "'Google'"
            ]
          },
          "metadata": {
            "tags": []
          },
          "execution_count": 23
        }
      ]
    },
    {
      "cell_type": "code",
      "metadata": {
        "id": "dbxpSYIujyUq",
        "colab_type": "code",
        "colab": {}
      },
      "source": [
        "ids = [\"9pti\", \"2plv\", \"1crn\"]"
      ],
      "execution_count": 0,
      "outputs": []
    },
    {
      "cell_type": "code",
      "metadata": {
        "id": "HH_IUpkujyUt",
        "colab_type": "code",
        "colab": {}
      },
      "source": [
        "ids.append(\"1alm\")"
      ],
      "execution_count": 0,
      "outputs": []
    },
    {
      "cell_type": "code",
      "metadata": {
        "id": "U3PMTJusjyU1",
        "colab_type": "code",
        "colab": {},
        "outputId": "a1df6f48-db8a-4641-c14c-1d91f9fa4337"
      },
      "source": [
        "ids\n"
      ],
      "execution_count": 0,
      "outputs": [
        {
          "output_type": "execute_result",
          "data": {
            "text/plain": [
              "['9pti', '2plv', '1crn', '1alm']"
            ]
          },
          "metadata": {
            "tags": []
          },
          "execution_count": 26
        }
      ]
    },
    {
      "cell_type": "code",
      "metadata": {
        "id": "6cBFmISpjyU4",
        "colab_type": "code",
        "colab": {}
      },
      "source": [
        "\n",
        "L = [\"2anm\", \"9mnp\"]\n",
        "ids.extend(L)\n"
      ],
      "execution_count": 0,
      "outputs": []
    },
    {
      "cell_type": "code",
      "metadata": {
        "id": "LlshZJmHjyU9",
        "colab_type": "code",
        "colab": {},
        "outputId": "f85a8855-ebb7-4bd3-afb4-095f85dd2773"
      },
      "source": [
        "del ids[0]\n",
        "\n",
        "ids.sort()\n",
        "print(ids)\n",
        "\n",
        "ids.reverse()\n",
        "print(ids)\n",
        "\n",
        "ids.insert(0, \"9pti\")\n",
        "print(ids)"
      ],
      "execution_count": 0,
      "outputs": [
        {
          "output_type": "stream",
          "text": [
            "['1alm', '1crn', '2anm', '2plv', '9mnp']\n",
            "['9mnp', '2plv', '2anm', '1crn', '1alm']\n",
            "['9pti', '9mnp', '2plv', '2anm', '1crn', '1alm']\n"
          ],
          "name": "stdout"
        }
      ]
    },
    {
      "cell_type": "code",
      "metadata": {
        "id": "YIisVSrfjyVC",
        "colab_type": "code",
        "colab": {},
        "outputId": "328e978b-78a6-4962-bfa5-8db5dffb156f"
      },
      "source": [
        "yellow = (255, 255, 0)\n",
        "\n",
        "one = (1,)\n",
        "\n",
        "yellow[0]\n",
        "\n",
        "yellow[1:]\n",
        "\n",
        "yellow[0]"
      ],
      "execution_count": 0,
      "outputs": [
        {
          "output_type": "execute_result",
          "data": {
            "text/plain": [
              "255"
            ]
          },
          "metadata": {
            "tags": []
          },
          "execution_count": 29
        }
      ]
    },
    {
      "cell_type": "code",
      "metadata": {
        "id": "9YQCnaokjyVF",
        "colab_type": "code",
        "colab": {}
      },
      "source": [
        "one = (1,)"
      ],
      "execution_count": 0,
      "outputs": []
    },
    {
      "cell_type": "code",
      "metadata": {
        "id": "ZdiwDnxnjyVH",
        "colab_type": "code",
        "colab": {},
        "outputId": "7439a7bc-aa06-486f-c9c4-7a75a631fe71"
      },
      "source": [
        "print(\"%s lives in %s at lattitide %0.1f\" % (\"andrew\", \"Sweden\", 57.5454))"
      ],
      "execution_count": 0,
      "outputs": [
        {
          "output_type": "stream",
          "text": [
            "andrew lives in Sweden at lattitide 57.5\n"
          ],
          "name": "stdout"
        }
      ]
    },
    {
      "cell_type": "code",
      "metadata": {
        "id": "iK3Q9auRjyVJ",
        "colab_type": "code",
        "colab": {}
      },
      "source": [
        "names = [\"one\", \"two\", \"three\"]"
      ],
      "execution_count": 0,
      "outputs": []
    },
    {
      "cell_type": "code",
      "metadata": {
        "id": "9W6p6uzTjyVL",
        "colab_type": "code",
        "colab": {}
      },
      "source": [
        "gender = [1, 2, 3]"
      ],
      "execution_count": 0,
      "outputs": []
    },
    {
      "cell_type": "code",
      "metadata": {
        "id": "wm-SBMV8jyVN",
        "colab_type": "code",
        "colab": {}
      },
      "source": [
        "abc = zip(names, gender)"
      ],
      "execution_count": 0,
      "outputs": []
    },
    {
      "cell_type": "code",
      "metadata": {
        "id": "nfcGu23JjyVS",
        "colab_type": "code",
        "colab": {},
        "outputId": "5f216e8c-a8ad-4a66-f297-80f2bb11fabd"
      },
      "source": [
        "abc"
      ],
      "execution_count": 0,
      "outputs": [
        {
          "output_type": "execute_result",
          "data": {
            "text/plain": [
              "<zip at 0xb2155ebb08>"
            ]
          },
          "metadata": {
            "tags": []
          },
          "execution_count": 35
        }
      ]
    },
    {
      "cell_type": "code",
      "metadata": {
        "id": "fAd1drgZjyVU",
        "colab_type": "code",
        "colab": {},
        "outputId": "319ea3a5-f917-4b3b-8130-61f5f94025d4"
      },
      "source": [
        "for i in abc:\n",
        "    print(i)"
      ],
      "execution_count": 0,
      "outputs": [
        {
          "output_type": "stream",
          "text": [
            "('one', 1)\n",
            "('two', 2)\n",
            "('three', 3)\n"
          ],
          "name": "stdout"
        }
      ]
    },
    {
      "cell_type": "code",
      "metadata": {
        "id": "qBFNoCanjyVY",
        "colab_type": "code",
        "colab": {},
        "outputId": "c73b543c-8b0a-41d7-b78a-2049751f7533"
      },
      "source": [
        "atomic_number = {\"H\":\"Hydrogen\", \"He\":\"Helium\", \"Li\": \"Lithium\", \"C\":\"Carbon\", \"O\": \"Oxygen\", \"N\": \"Nitrogen\" }\n",
        "atomic_number"
      ],
      "execution_count": 0,
      "outputs": [
        {
          "output_type": "execute_result",
          "data": {
            "text/plain": [
              "{'C': 'Carbon',\n",
              " 'H': 'Hydrogen',\n",
              " 'He': 'Helium',\n",
              " 'Li': 'Lithium',\n",
              " 'N': 'Nitrogen',\n",
              " 'O': 'Oxygen'}"
            ]
          },
          "metadata": {
            "tags": []
          },
          "execution_count": 37
        }
      ]
    },
    {
      "cell_type": "code",
      "metadata": {
        "id": "49KMUuTsjyVa",
        "colab_type": "code",
        "colab": {},
        "outputId": "b2d955a3-33b4-4425-f0dc-5ab0a551a132"
      },
      "source": [
        "type(atomic_number)"
      ],
      "execution_count": 0,
      "outputs": [
        {
          "output_type": "execute_result",
          "data": {
            "text/plain": [
              "dict"
            ]
          },
          "metadata": {
            "tags": []
          },
          "execution_count": 38
        }
      ]
    },
    {
      "cell_type": "code",
      "metadata": {
        "id": "G1l6-IwPjyVd",
        "colab_type": "code",
        "colab": {},
        "outputId": "346e48e1-2695-44ed-9dfc-f04a8a229d05"
      },
      "source": [
        "atomic_number = {1:\"Hydrogen\", 2:\"Helium\", 3: \"Lithium\", 4:\"Carbon\", 5: \"Oxygen\", 5: \"Nitrogen\" }\n",
        "atomic_number"
      ],
      "execution_count": 0,
      "outputs": [
        {
          "output_type": "execute_result",
          "data": {
            "text/plain": [
              "{1: 'Hydrogen', 2: 'Helium', 3: 'Lithium', 4: 'Carbon', 5: 'Nitrogen'}"
            ]
          },
          "metadata": {
            "tags": []
          },
          "execution_count": 39
        }
      ]
    },
    {
      "cell_type": "code",
      "metadata": {
        "id": "qQlwVpPvjyVf",
        "colab_type": "code",
        "colab": {},
        "outputId": "9c0053c5-0320-4914-fd2d-7c47792c6762"
      },
      "source": [
        "mode = \"absolute\"\n",
        "if mode == \"canonincal\":\n",
        "    smiles = \"canonical\"\n",
        "    print(smiles)\n",
        "elif mode == \"isomeric\":\n",
        "    smiles = \"isomeric\"\n",
        "    print(smiles)\n",
        "elif mode == \"absolute\":\n",
        "        smiles = \"absolute\"\n",
        "        print(smiles)\n",
        "else:\n",
        "    raise TypeError(\"unknown Mode\")"
      ],
      "execution_count": 0,
      "outputs": [
        {
          "output_type": "stream",
          "text": [
            "absolute\n"
          ],
          "name": "stdout"
        }
      ]
    },
    {
      "cell_type": "code",
      "metadata": {
        "id": "VE_Qen_OjyVz",
        "colab_type": "code",
        "colab": {},
        "outputId": "3366e675-1be4-476c-9234-6a1bcc545d4a"
      },
      "source": [
        "str1 = \"Sumit yadav\"\n",
        "\n",
        "if \"Sumit\" in str1:\n",
        "    print(\"name mached\")\n",
        "else:\n",
        "    print(\"No match\")"
      ],
      "execution_count": 0,
      "outputs": [
        {
          "output_type": "stream",
          "text": [
            "name mached\n"
          ],
          "name": "stdout"
        }
      ]
    },
    {
      "cell_type": "code",
      "metadata": {
        "id": "vsQvFLFtjyV4",
        "colab_type": "code",
        "colab": {}
      },
      "source": [
        "def match_fuction(text,abc):\n",
        "    if text.find(str(abc))>=0:\n",
        "        print(\"name mached\")\n",
        "    else:\n",
        "        print(\"No match\")"
      ],
      "execution_count": 0,
      "outputs": []
    },
    {
      "cell_type": "code",
      "metadata": {
        "id": "We-Ewww0jyWH",
        "colab_type": "code",
        "colab": {},
        "outputId": "a67b5e2d-9296-43b8-bfde-c0b9900d3f5d"
      },
      "source": [
        "match_fuction(str1,\"mayank\")"
      ],
      "execution_count": 0,
      "outputs": [
        {
          "output_type": "stream",
          "text": [
            "No match\n"
          ],
          "name": "stdout"
        }
      ]
    },
    {
      "cell_type": "code",
      "metadata": {
        "id": "pTlqxT2PjyWJ",
        "colab_type": "code",
        "colab": {}
      },
      "source": [
        "def print_series(a,b):\n",
        "    for i in range(a,b+1):\n",
        "        print(i)"
      ],
      "execution_count": 0,
      "outputs": []
    },
    {
      "cell_type": "code",
      "metadata": {
        "id": "yUxJh7_KjyWN",
        "colab_type": "code",
        "colab": {},
        "outputId": "9027d313-b365-4672-84da-758149425b97"
      },
      "source": [
        "print_series(1,10)"
      ],
      "execution_count": 0,
      "outputs": [
        {
          "output_type": "stream",
          "text": [
            "1\n",
            "2\n",
            "3\n",
            "4\n",
            "5\n",
            "6\n",
            "7\n",
            "8\n",
            "9\n",
            "10\n"
          ],
          "name": "stdout"
        }
      ]
    },
    {
      "cell_type": "code",
      "metadata": {
        "id": "IUL06Y4PjyWQ",
        "colab_type": "code",
        "colab": {}
      },
      "source": [
        "str1 = \"He is a good boy\"\n",
        "str2 = \"He is fast in coding\"\n",
        "\n",
        "\n"
      ],
      "execution_count": 0,
      "outputs": []
    },
    {
      "cell_type": "code",
      "metadata": {
        "id": "t-7vmKsAjyWR",
        "colab_type": "code",
        "colab": {}
      },
      "source": [
        "def match_words(string1, string2):\n",
        "    temp = string1.split()\n",
        "    for i in temp:\n",
        "        if string2.find(i)>=0:\n",
        "            print(\"Found %s at\"%i,string2.find(i))"
      ],
      "execution_count": 0,
      "outputs": []
    },
    {
      "cell_type": "code",
      "metadata": {
        "id": "OY_zA6u6jyWW",
        "colab_type": "code",
        "colab": {},
        "outputId": "850ed271-718c-4be0-a774-c89230b61bc0"
      },
      "source": [
        "match_words(str1,str2)"
      ],
      "execution_count": 0,
      "outputs": [
        {
          "output_type": "stream",
          "text": [
            "Fount He at 0\n",
            "Fount is at 3\n",
            "Fount a at 7\n"
          ],
          "name": "stdout"
        }
      ]
    },
    {
      "cell_type": "code",
      "metadata": {
        "id": "1frCPjQhjyWY",
        "colab_type": "code",
        "colab": {},
        "outputId": "1ccaa1e1-1372-4ceb-9373-ca1ae6f6a69f"
      },
      "source": [
        "f = open(\"data.txt\")\n",
        "str3 = f.read()\n",
        "print(str3)"
      ],
      "execution_count": 0,
      "outputs": [
        {
          "output_type": "stream",
          "text": [
            "Google LLC is an American multinational technology company that specializes in Internet-related services and products, which include online advertising technologies, search engine, cloud computing, software, and hardware.\n",
            "It is considered one of the Big Four technology companies, alongside Amazon, Apple and Facebook.\n"
          ],
          "name": "stdout"
        }
      ]
    },
    {
      "cell_type": "code",
      "metadata": {
        "id": "Gp2YH147jyWb",
        "colab_type": "code",
        "colab": {}
      },
      "source": [
        "string = \"He is a good boy\"\n",
        "word = \"He\"\n",
        "\n",
        "\n",
        "            \n"
      ],
      "execution_count": 0,
      "outputs": []
    },
    {
      "cell_type": "code",
      "metadata": {
        "id": "eh2GJ3d8jyWd",
        "colab_type": "code",
        "colab": {}
      },
      "source": [
        "\n",
        "def match_words(string1, string2):\n",
        "    temp = string1.split()\n",
        "    for i in temp:\n",
        "        if string2.find(i)>=0:\n",
        "            print(\"Found %s at\"%i,string2.find(i))"
      ],
      "execution_count": 0,
      "outputs": []
    },
    {
      "cell_type": "code",
      "metadata": {
        "id": "Kyl6HFr4jyWg",
        "colab_type": "code",
        "colab": {
          "base_uri": "https://localhost:8080/",
          "height": 34
        },
        "outputId": "d271523b-c305-4679-9091-5b5743168413"
      },
      "source": [
        "match_words(string,word)"
      ],
      "execution_count": 6,
      "outputs": [
        {
          "output_type": "stream",
          "text": [
            "Found He at 0\n"
          ],
          "name": "stdout"
        }
      ]
    },
    {
      "cell_type": "code",
      "metadata": {
        "id": "QVqt7bhZjyWi",
        "colab_type": "code",
        "colab": {}
      },
      "source": [
        "text = 'This is car'\n",
        "word = 'is'\n",
        "replace_word = 'is not'"
      ],
      "execution_count": 0,
      "outputs": []
    },
    {
      "cell_type": "code",
      "metadata": {
        "id": "8X3YO_yljyWn",
        "colab_type": "code",
        "colab": {
          "base_uri": "https://localhost:8080/",
          "height": 34
        },
        "outputId": "59c867c0-ea0b-484a-baac-9d13f6d2f96c"
      },
      "source": [
        "def find_word(text,word):\n",
        "  words = text.split(\" \")\n",
        "  words = words.index(word)\n",
        "  print(words)\n",
        "  \n",
        "  \n",
        "find_word(text,word)"
      ],
      "execution_count": 11,
      "outputs": [
        {
          "output_type": "stream",
          "text": [
            "1\n"
          ],
          "name": "stdout"
        }
      ]
    },
    {
      "cell_type": "code",
      "metadata": {
        "id": "CXrAVlrSjyWp",
        "colab_type": "code",
        "colab": {
          "base_uri": "https://localhost:8080/",
          "height": 51
        },
        "outputId": "c140038f-517f-4bd8-ed2b-855473b392a4"
      },
      "source": [
        "def find_word(text,word):\n",
        "  words = text.split(\" \")\n",
        "  print(type(words))\n",
        "  words[words.index(word)] = replace_word\n",
        "  print(words)\n",
        "  \n",
        "  \n",
        "find_word(text,word)"
      ],
      "execution_count": 14,
      "outputs": [
        {
          "output_type": "stream",
          "text": [
            "<class 'list'>\n",
            "['This', 'is not', 'car']\n"
          ],
          "name": "stdout"
        }
      ]
    },
    {
      "cell_type": "code",
      "metadata": {
        "id": "PoJrZFUvrthl",
        "colab_type": "code",
        "colab": {}
      },
      "source": [
        "text = 'This is my car'\n",
        "word = 'is'"
      ],
      "execution_count": 0,
      "outputs": []
    },
    {
      "cell_type": "code",
      "metadata": {
        "id": "k067VNl3sr24",
        "colab_type": "code",
        "colab": {
          "base_uri": "https://localhost:8080/",
          "height": 51
        },
        "outputId": "afa06598-f18b-4e54-841e-3a3420d45dc2"
      },
      "source": [
        "def func(text, word):\n",
        "  words = text.split()\n",
        "  print(words.index(word))\n",
        "  print(words)\n",
        "  \n",
        "  \n",
        "  \n",
        "func(text, word)"
      ],
      "execution_count": 21,
      "outputs": [
        {
          "output_type": "stream",
          "text": [
            "1\n",
            "['This', 'is', 'my', 'car']\n"
          ],
          "name": "stdout"
        }
      ]
    },
    {
      "cell_type": "code",
      "metadata": {
        "id": "hR-rEDDwvUpk",
        "colab_type": "code",
        "colab": {}
      },
      "source": [
        "import numpy as np"
      ],
      "execution_count": 0,
      "outputs": []
    },
    {
      "cell_type": "code",
      "metadata": {
        "id": "ttwPAM95G-DX",
        "colab_type": "code",
        "colab": {
          "base_uri": "https://localhost:8080/",
          "height": 34
        },
        "outputId": "4da63ddd-0fb3-4e99-e240-c6172dcdcba9"
      },
      "source": [
        "a = np.array([[1,2,3],[4,5,6]],dtype=np.float32)\n",
        "print(a.ndim, a.shape, a.dtype)"
      ],
      "execution_count": 25,
      "outputs": [
        {
          "output_type": "stream",
          "text": [
            "2 (2, 3) float32\n"
          ],
          "name": "stdout"
        }
      ]
    },
    {
      "cell_type": "code",
      "metadata": {
        "id": "CsJ84jT_HeQd",
        "colab_type": "code",
        "colab": {
          "base_uri": "https://localhost:8080/",
          "height": 34
        },
        "outputId": "27df4296-f875-4bef-e2b6-45fbce0c62b1"
      },
      "source": [
        "b = np.array([1], dtype=np.float32)\n",
        "print(b.ndim, b.shape, b.dtype)"
      ],
      "execution_count": 28,
      "outputs": [
        {
          "output_type": "stream",
          "text": [
            "1 (1,) float32\n"
          ],
          "name": "stdout"
        }
      ]
    },
    {
      "cell_type": "code",
      "metadata": {
        "id": "YXntZtL4H8Hd",
        "colab_type": "code",
        "colab": {
          "base_uri": "https://localhost:8080/",
          "height": 68
        },
        "outputId": "db085c7a-eabd-4625-94bc-2342e74395f5"
      },
      "source": [
        "np.ones((3,5),dtype=np.float32)"
      ],
      "execution_count": 30,
      "outputs": [
        {
          "output_type": "execute_result",
          "data": {
            "text/plain": [
              "array([[1., 1., 1., 1., 1.],\n",
              "       [1., 1., 1., 1., 1.],\n",
              "       [1., 1., 1., 1., 1.]], dtype=float32)"
            ]
          },
          "metadata": {
            "tags": []
          },
          "execution_count": 30
        }
      ]
    },
    {
      "cell_type": "markdown",
      "metadata": {
        "id": "UISxruy4JJT8",
        "colab_type": "text"
      },
      "source": [
        "here ''.'' represents float 32 type"
      ]
    },
    {
      "cell_type": "code",
      "metadata": {
        "id": "vOIjPwGIIuD7",
        "colab_type": "code",
        "colab": {
          "base_uri": "https://localhost:8080/",
          "height": 119
        },
        "outputId": "d3cdffe5-f943-483c-d86e-c494def0d39d"
      },
      "source": [
        "np.zeros((6,2),dtype=np.int8)"
      ],
      "execution_count": 32,
      "outputs": [
        {
          "output_type": "execute_result",
          "data": {
            "text/plain": [
              "array([[0, 0],\n",
              "       [0, 0],\n",
              "       [0, 0],\n",
              "       [0, 0],\n",
              "       [0, 0],\n",
              "       [0, 0]], dtype=int8)"
            ]
          },
          "metadata": {
            "tags": []
          },
          "execution_count": 32
        }
      ]
    },
    {
      "cell_type": "code",
      "metadata": {
        "id": "1BPVmqTAI5TV",
        "colab_type": "code",
        "colab": {
          "base_uri": "https://localhost:8080/",
          "height": 34
        },
        "outputId": "dcbac00c-bd80-43a4-f1bb-9a6255cab525"
      },
      "source": [
        "np.arange(2000, 2006)\n"
      ],
      "execution_count": 36,
      "outputs": [
        {
          "output_type": "execute_result",
          "data": {
            "text/plain": [
              "array([2000, 2001, 2002, 2003, 2004, 2005])"
            ]
          },
          "metadata": {
            "tags": []
          },
          "execution_count": 36
        }
      ]
    },
    {
      "cell_type": "code",
      "metadata": {
        "id": "kqAWYjt4JhT2",
        "colab_type": "code",
        "colab": {
          "base_uri": "https://localhost:8080/",
          "height": 119
        },
        "outputId": "05724456-ec26-412e-ecd2-24030e771134"
      },
      "source": [
        "A = np.ones((2,3))\n",
        "B = np.zeros((4,3))\n",
        "\n",
        "np.concatenate([A,B])"
      ],
      "execution_count": 44,
      "outputs": [
        {
          "output_type": "execute_result",
          "data": {
            "text/plain": [
              "array([[1., 1., 1.],\n",
              "       [1., 1., 1.],\n",
              "       [0., 0., 0.],\n",
              "       [0., 0., 0.],\n",
              "       [0., 0., 0.],\n",
              "       [0., 0., 0.]])"
            ]
          },
          "metadata": {
            "tags": []
          },
          "execution_count": 44
        }
      ]
    },
    {
      "cell_type": "code",
      "metadata": {
        "id": "J9vNSb0rKS7P",
        "colab_type": "code",
        "colab": {
          "base_uri": "https://localhost:8080/",
          "height": 51
        },
        "outputId": "362c1986-6629-4e60-954b-add785e5cde5"
      },
      "source": [
        "A = np.ones((2,3))\n",
        "B = np.zeros((2,4))\n",
        "\n",
        "np.concatenate([A,B], axis = 1)"
      ],
      "execution_count": 41,
      "outputs": [
        {
          "output_type": "execute_result",
          "data": {
            "text/plain": [
              "array([[1., 1., 1., 0., 0., 0., 0.],\n",
              "       [1., 1., 1., 0., 0., 0., 0.]])"
            ]
          },
          "metadata": {
            "tags": []
          },
          "execution_count": 41
        }
      ]
    },
    {
      "cell_type": "code",
      "metadata": {
        "id": "TmTOiqXdLCl9",
        "colab_type": "code",
        "colab": {
          "base_uri": "https://localhost:8080/",
          "height": 68
        },
        "outputId": "0240fb11-223b-4968-9568-45de606ebb7a"
      },
      "source": [
        "A = np.array([[1,2.2,3,4.5,5],[6.6,7,6.8,9,10],[11,12,13,14,15]])\n",
        "A"
      ],
      "execution_count": 50,
      "outputs": [
        {
          "output_type": "execute_result",
          "data": {
            "text/plain": [
              "array([[ 1. ,  2.2,  3. ,  4.5,  5. ],\n",
              "       [ 6.6,  7. ,  6.8,  9. , 10. ],\n",
              "       [11. , 12. , 13. , 14. , 15. ]])"
            ]
          },
          "metadata": {
            "tags": []
          },
          "execution_count": 50
        }
      ]
    },
    {
      "cell_type": "code",
      "metadata": {
        "id": "u2IOCFvnLvS-",
        "colab_type": "code",
        "colab": {
          "base_uri": "https://localhost:8080/",
          "height": 85
        },
        "outputId": "7c860e10-dd7d-422a-9d6f-24a48cb10b0a"
      },
      "source": [
        "print(A.astype(np.uint16))\n",
        "print(type(A.astype(np.uint16)))"
      ],
      "execution_count": 52,
      "outputs": [
        {
          "output_type": "stream",
          "text": [
            "[[ 1  2  3  4  5]\n",
            " [ 6  7  6  9 10]\n",
            " [11 12 13 14 15]]\n",
            "<class 'numpy.ndarray'>\n"
          ],
          "name": "stdout"
        }
      ]
    },
    {
      "cell_type": "code",
      "metadata": {
        "id": "pI0iAXCJMnYN",
        "colab_type": "code",
        "colab": {
          "base_uri": "https://localhost:8080/",
          "height": 119
        },
        "outputId": "7dc24a17-3659-4b7c-9e2c-085fd448becf"
      },
      "source": [
        "a = np.ones((2,2,3))\n",
        "b = np.zeros_like(a)\n",
        "print(a)\n",
        "print(b.shape)"
      ],
      "execution_count": 64,
      "outputs": [
        {
          "output_type": "stream",
          "text": [
            "[[[1. 1. 1.]\n",
            "  [1. 1. 1.]]\n",
            "\n",
            " [[1. 1. 1.]\n",
            "  [1. 1. 1.]]]\n",
            "(2, 2, 3)\n"
          ],
          "name": "stdout"
        }
      ]
    },
    {
      "cell_type": "code",
      "metadata": {
        "id": "8W_ajRj0OEsF",
        "colab_type": "code",
        "colab": {
          "base_uri": "https://localhost:8080/",
          "height": 102
        },
        "outputId": "649dc199-1146-4ed1-f7a8-9bde744c76ce"
      },
      "source": [
        "b"
      ],
      "execution_count": 60,
      "outputs": [
        {
          "output_type": "execute_result",
          "data": {
            "text/plain": [
              "array([[[0., 0., 0.],\n",
              "        [0., 0., 0.]],\n",
              "\n",
              "       [[0., 0., 0.],\n",
              "        [0., 0., 0.]]])"
            ]
          },
          "metadata": {
            "tags": []
          },
          "execution_count": 60
        }
      ]
    },
    {
      "cell_type": "code",
      "metadata": {
        "id": "QzjIyUHtOkUw",
        "colab_type": "code",
        "colab": {
          "base_uri": "https://localhost:8080/",
          "height": 187
        },
        "outputId": "f759cb00-f3f9-4e8c-a5c7-30ddae8ef3d8"
      },
      "source": [
        "np.random.random((10,3))"
      ],
      "execution_count": 68,
      "outputs": [
        {
          "output_type": "execute_result",
          "data": {
            "text/plain": [
              "array([[0.95772716, 0.29832343, 0.25498432],\n",
              "       [0.43607241, 0.50393744, 0.59234917],\n",
              "       [0.88977518, 0.98499655, 0.27913952],\n",
              "       [0.81350378, 0.85911323, 0.25671501],\n",
              "       [0.21863581, 0.97071358, 0.24300219],\n",
              "       [0.10493391, 0.91764426, 0.27045427],\n",
              "       [0.89540892, 0.54626095, 0.24250719],\n",
              "       [0.13521205, 0.39653879, 0.49266519],\n",
              "       [0.53168434, 0.26454992, 0.19608325],\n",
              "       [0.58392963, 0.15559456, 0.50567279]])"
            ]
          },
          "metadata": {
            "tags": []
          },
          "execution_count": 68
        }
      ]
    },
    {
      "cell_type": "code",
      "metadata": {
        "id": "5x3S3MZhPa-v",
        "colab_type": "code",
        "colab": {
          "base_uri": "https://localhost:8080/",
          "height": 85
        },
        "outputId": "3fa84c9c-991d-4e0d-9a0e-c50b65b08552"
      },
      "source": [
        "np.random.randint(10,size=(4,3))"
      ],
      "execution_count": 70,
      "outputs": [
        {
          "output_type": "execute_result",
          "data": {
            "text/plain": [
              "array([[4, 6, 0],\n",
              "       [3, 1, 6],\n",
              "       [6, 7, 2],\n",
              "       [8, 3, 0]])"
            ]
          },
          "metadata": {
            "tags": []
          },
          "execution_count": 70
        }
      ]
    },
    {
      "cell_type": "code",
      "metadata": {
        "id": "65vYu4qLP-vS",
        "colab_type": "code",
        "colab": {
          "base_uri": "https://localhost:8080/",
          "height": 68
        },
        "outputId": "3fd0da0d-03f9-453b-d00d-9a5bc250c9d1"
      },
      "source": [
        "a = np.array([1,2,3,4,5,6])\n",
        " \n",
        "a= a.reshape(3,2)\n",
        "print(a)"
      ],
      "execution_count": 72,
      "outputs": [
        {
          "output_type": "stream",
          "text": [
            "[[1 2]\n",
            " [3 4]\n",
            " [5 6]]\n"
          ],
          "name": "stdout"
        }
      ]
    },
    {
      "cell_type": "code",
      "metadata": {
        "id": "p17FTFu2RPK_",
        "colab_type": "code",
        "colab": {
          "base_uri": "https://localhost:8080/",
          "height": 51
        },
        "outputId": "3e28c8b9-925e-4cb8-a43a-e6384d12f803"
      },
      "source": [
        "a.reshape(2,-1)"
      ],
      "execution_count": 75,
      "outputs": [
        {
          "output_type": "execute_result",
          "data": {
            "text/plain": [
              "array([[1, 2, 3],\n",
              "       [4, 5, 6]])"
            ]
          },
          "metadata": {
            "tags": []
          },
          "execution_count": 75
        }
      ]
    },
    {
      "cell_type": "code",
      "metadata": {
        "id": "cPCqKP4oTcfw",
        "colab_type": "code",
        "colab": {
          "base_uri": "https://localhost:8080/",
          "height": 68
        },
        "outputId": "360701d8-2974-4cf3-bb29-e94c507edfd2"
      },
      "source": [
        "a.reshape(-1,2)"
      ],
      "execution_count": 76,
      "outputs": [
        {
          "output_type": "execute_result",
          "data": {
            "text/plain": [
              "array([[1, 2],\n",
              "       [3, 4],\n",
              "       [5, 6]])"
            ]
          },
          "metadata": {
            "tags": []
          },
          "execution_count": 76
        }
      ]
    },
    {
      "cell_type": "markdown",
      "metadata": {
        "id": "Z2zR_COLR50N",
        "colab_type": "text"
      },
      "source": [
        ""
      ]
    },
    {
      "cell_type": "code",
      "metadata": {
        "id": "Tksv7xk0Rj-t",
        "colab_type": "code",
        "colab": {
          "base_uri": "https://localhost:8080/",
          "height": 34
        },
        "outputId": "0d4bfb15-4c4a-498c-a7f8-cb7df1520f48"
      },
      "source": [
        "a.ravel()"
      ],
      "execution_count": 74,
      "outputs": [
        {
          "output_type": "execute_result",
          "data": {
            "text/plain": [
              "array([1, 2, 3, 4, 5, 6])"
            ]
          },
          "metadata": {
            "tags": []
          },
          "execution_count": 74
        }
      ]
    },
    {
      "cell_type": "code",
      "metadata": {
        "id": "SCjUfYBLRnYZ",
        "colab_type": "code",
        "colab": {
          "base_uri": "https://localhost:8080/",
          "height": 102
        },
        "outputId": "0086fd43-7f2f-4cd5-81bb-afe244047adf"
      },
      "source": [
        "a = np.arange(10).reshape(5,2)\n",
        "a = a.T\n",
        "a = a.transpose((1,0))\n",
        "\n",
        "print(a)"
      ],
      "execution_count": 81,
      "outputs": [
        {
          "output_type": "stream",
          "text": [
            "[[0 1]\n",
            " [2 3]\n",
            " [4 5]\n",
            " [6 7]\n",
            " [8 9]]\n"
          ],
          "name": "stdout"
        }
      ]
    },
    {
      "cell_type": "markdown",
      "metadata": {
        "id": "IJqf_Cg7WfNo",
        "colab_type": "text"
      },
      "source": [
        "###NPZ files can hold multiple Arrays"
      ]
    },
    {
      "cell_type": "code",
      "metadata": {
        "id": "HICR-_DFUzxD",
        "colab_type": "code",
        "colab": {
          "base_uri": "https://localhost:8080/",
          "height": 102
        },
        "outputId": "dc8fee13-b82a-41bc-a3e2-15888e7a8d88"
      },
      "source": [
        "np.savez('data.npz', a = a)\n",
        "data = np.load('data.npz')\n",
        "a = data['a']\n",
        "print(a)"
      ],
      "execution_count": 83,
      "outputs": [
        {
          "output_type": "stream",
          "text": [
            "[[0 1]\n",
            " [2 3]\n",
            " [4 5]\n",
            " [6 7]\n",
            " [8 9]]\n"
          ],
          "name": "stdout"
        }
      ]
    },
    {
      "cell_type": "code",
      "metadata": {
        "id": "LHOXJO8FWLB0",
        "colab_type": "code",
        "colab": {}
      },
      "source": [
        ""
      ],
      "execution_count": 0,
      "outputs": []
    }
  ]
}