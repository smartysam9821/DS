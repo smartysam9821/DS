{
  "nbformat": 4,
  "nbformat_minor": 0,
  "metadata": {
    "colab": {
      "name": "Program_Flow_In_Python.ipynb",
      "version": "0.3.2",
      "provenance": []
    },
    "language_info": {
      "codemirror_mode": {
        "name": "ipython",
        "version": 3
      },
      "file_extension": ".py",
      "mimetype": "text/x-python",
      "name": "python",
      "nbconvert_exporter": "python",
      "pygments_lexer": "ipython3",
      "version": "3.6.3"
    },
    "kernelspec": {
      "display_name": "Python 3",
      "language": "python",
      "name": "python3"
    }
  },
  "cells": [
    {
      "cell_type": "code",
      "metadata": {
        "id": "UM73RSNTjyS1",
        "colab_type": "code",
        "outputId": "a55d9192-a933-4619-88ee-a80292db5bd1",
        "colab": {}
      },
      "source": [
        "name = input(\"Enter your name:\")\n",
        "print(\"Name is: \" +name)"
      ],
      "execution_count": 0,
      "outputs": [
        {
          "output_type": "stream",
          "text": [
            "Enter your name:Sumit\n",
            "Name is: Sumit\n"
          ],
          "name": "stdout"
        }
      ]
    },
    {
      "cell_type": "code",
      "metadata": {
        "id": "xNwgSXW5jyS-",
        "colab_type": "code",
        "colab": {}
      },
      "source": [
        "names = [\"ben\", \"chen\", \"Yaqin\"]"
      ],
      "execution_count": 0,
      "outputs": []
    },
    {
      "cell_type": "code",
      "metadata": {
        "id": "qTeDxSshjyTC",
        "colab_type": "code",
        "colab": {}
      },
      "source": [
        "abc = names[-1]"
      ],
      "execution_count": 0,
      "outputs": []
    },
    {
      "cell_type": "code",
      "metadata": {
        "id": "gd_liEIujyTE",
        "colab_type": "code",
        "outputId": "71e4dcba-f73e-4125-8db4-7fa5db8a4a60",
        "colab": {}
      },
      "source": [
        "abc"
      ],
      "execution_count": 0,
      "outputs": [
        {
          "output_type": "execute_result",
          "data": {
            "text/plain": [
              "'Yaqin'"
            ]
          },
          "metadata": {
            "tags": []
          },
          "execution_count": 4
        }
      ]
    },
    {
      "cell_type": "code",
      "metadata": {
        "id": "0tHUjG2njyTI",
        "colab_type": "code",
        "outputId": "2a9ab1b6-5c6d-484e-f88e-11853a365631",
        "colab": {}
      },
      "source": [
        "abc[2:]"
      ],
      "execution_count": 0,
      "outputs": [
        {
          "output_type": "execute_result",
          "data": {
            "text/plain": [
              "'qin'"
            ]
          },
          "metadata": {
            "tags": []
          },
          "execution_count": 5
        }
      ]
    },
    {
      "cell_type": "code",
      "metadata": {
        "id": "t7S_LsD1jyTO",
        "colab_type": "code",
        "colab": {}
      },
      "source": [
        ""
      ],
      "execution_count": 0,
      "outputs": []
    },
    {
      "cell_type": "code",
      "metadata": {
        "id": "1i4AzApNjyTT",
        "colab_type": "code",
        "colab": {}
      },
      "source": [
        "smiles=\"Sumit Kumar u. Yadav\"\n"
      ],
      "execution_count": 0,
      "outputs": []
    },
    {
      "cell_type": "code",
      "metadata": {
        "id": "6KaBHQ7JjyTW",
        "colab_type": "code",
        "outputId": "b3ecb414-f0ad-4a3d-c737-6057f6593fb8",
        "colab": {}
      },
      "source": [
        "smiles"
      ],
      "execution_count": 0,
      "outputs": [
        {
          "output_type": "execute_result",
          "data": {
            "text/plain": [
              "'Sumit Kumar u. Yadav'"
            ]
          },
          "metadata": {
            "tags": []
          },
          "execution_count": 7
        }
      ]
    },
    {
      "cell_type": "code",
      "metadata": {
        "id": "WxEO0r0NjyTZ",
        "colab_type": "code",
        "outputId": "51822ff3-b0c1-46a8-859f-ee81f494c2fc",
        "colab": {}
      },
      "source": [
        "smiles.find(\".\",14)\n"
      ],
      "execution_count": 0,
      "outputs": [
        {
          "output_type": "execute_result",
          "data": {
            "text/plain": [
              "-1"
            ]
          },
          "metadata": {
            "tags": []
          },
          "execution_count": 8
        }
      ]
    },
    {
      "cell_type": "code",
      "metadata": {
        "id": "48FsOvOpjyTe",
        "colab_type": "code",
        "outputId": "d2bc7556-5389-44d3-be24-b7e66addf77e",
        "colab": {}
      },
      "source": [
        "smiles.split()"
      ],
      "execution_count": 0,
      "outputs": [
        {
          "output_type": "execute_result",
          "data": {
            "text/plain": [
              "['Sumit', 'Kumar', 'u.', 'Yadav']"
            ]
          },
          "metadata": {
            "tags": []
          },
          "execution_count": 9
        }
      ]
    },
    {
      "cell_type": "code",
      "metadata": {
        "id": "-gY8jZU2jyTl",
        "colab_type": "code",
        "outputId": "935bc46d-18f3-4d80-b95d-b3c33be09c42",
        "colab": {}
      },
      "source": [
        "if \"Br\" in \"Brother\":\n",
        "    print(\"contains brother\")"
      ],
      "execution_count": 0,
      "outputs": [
        {
          "output_type": "stream",
          "text": [
            "contains brother\n"
          ],
          "name": "stdout"
        }
      ]
    },
    {
      "cell_type": "code",
      "metadata": {
        "id": "iE_GUH-OjyTp",
        "colab_type": "code",
        "colab": {}
      },
      "source": [
        "if \"Br \" in \"Brother\":\n",
        "    print(\"contains brother\")"
      ],
      "execution_count": 0,
      "outputs": []
    },
    {
      "cell_type": "code",
      "metadata": {
        "id": "ERXqoMvfjyTs",
        "colab_type": "code",
        "outputId": "0e0345bc-89c6-4cb3-90d2-5f350ab72c31",
        "colab": {}
      },
      "source": [
        "email_address = input(\"Enter the email id: \")\n",
        "user_id = email_address.find(\"@\")\n",
        "print(user_id)\n",
        "print(\"user id is: \" + email_address[:user_id])"
      ],
      "execution_count": 0,
      "outputs": [
        {
          "output_type": "stream",
          "text": [
            "Enter the email id: sahdvsagda@gmail.com\n",
            "10\n",
            "user id is: sahdvsagda\n"
          ],
          "name": "stdout"
        }
      ]
    },
    {
      "cell_type": "code",
      "metadata": {
        "id": "g8VvSKo2jyTw",
        "colab_type": "code",
        "colab": {}
      },
      "source": [
        "line = \" # This is a comment line \\n\""
      ],
      "execution_count": 0,
      "outputs": []
    },
    {
      "cell_type": "code",
      "metadata": {
        "id": "3NY3nkxijyTz",
        "colab_type": "code",
        "outputId": "57a0b537-4397-48ee-b1ea-852e93b0b139",
        "colab": {}
      },
      "source": [
        "line.strip()"
      ],
      "execution_count": 0,
      "outputs": [
        {
          "output_type": "execute_result",
          "data": {
            "text/plain": [
              "'# This is a comment line'"
            ]
          },
          "metadata": {
            "tags": []
          },
          "execution_count": 14
        }
      ]
    },
    {
      "cell_type": "code",
      "metadata": {
        "id": "2wGqhdsljyT5",
        "colab_type": "code",
        "outputId": "46015f7a-c323-4d0f-eca6-b4ff484f5bd8",
        "colab": {}
      },
      "source": [
        "len(line.strip())"
      ],
      "execution_count": 0,
      "outputs": [
        {
          "output_type": "execute_result",
          "data": {
            "text/plain": [
              "24"
            ]
          },
          "metadata": {
            "tags": []
          },
          "execution_count": 15
        }
      ]
    },
    {
      "cell_type": "code",
      "metadata": {
        "id": "Oh9ZKYUOjyUA",
        "colab_type": "code",
        "outputId": "c70dd10c-d825-405c-b446-e97fff11158e",
        "colab": {}
      },
      "source": [
        "line.rstrip(\"\\n\")"
      ],
      "execution_count": 0,
      "outputs": [
        {
          "output_type": "execute_result",
          "data": {
            "text/plain": [
              "' # This is a comment line '"
            ]
          },
          "metadata": {
            "tags": []
          },
          "execution_count": 16
        }
      ]
    },
    {
      "cell_type": "code",
      "metadata": {
        "id": "Am-lIM5djyUE",
        "colab_type": "code",
        "outputId": "5f9b2813-f577-4f5c-c69d-014b26491877",
        "colab": {}
      },
      "source": [
        "len(line.rstrip())"
      ],
      "execution_count": 0,
      "outputs": [
        {
          "output_type": "execute_result",
          "data": {
            "text/plain": [
              "25"
            ]
          },
          "metadata": {
            "tags": []
          },
          "execution_count": 17
        }
      ]
    },
    {
      "cell_type": "code",
      "metadata": {
        "id": "uSHgXCEYjyUJ",
        "colab_type": "code",
        "outputId": "3a0b4d18-dfd2-45f4-8df7-cc75831e5150",
        "colab": {}
      },
      "source": [
        "line.lstrip()"
      ],
      "execution_count": 0,
      "outputs": [
        {
          "output_type": "execute_result",
          "data": {
            "text/plain": [
              "'# This is a comment line \\n'"
            ]
          },
          "metadata": {
            "tags": []
          },
          "execution_count": 18
        }
      ]
    },
    {
      "cell_type": "code",
      "metadata": {
        "id": "dMXdD1lijyUV",
        "colab_type": "code",
        "outputId": "1be66fff-9196-412f-bdae-d36f70aa65bf",
        "colab": {}
      },
      "source": [
        "len(line.lstrip())"
      ],
      "execution_count": 0,
      "outputs": [
        {
          "output_type": "execute_result",
          "data": {
            "text/plain": [
              "26"
            ]
          },
          "metadata": {
            "tags": []
          },
          "execution_count": 19
        }
      ]
    },
    {
      "cell_type": "code",
      "metadata": {
        "id": "O9HPLnzQjyUZ",
        "colab_type": "code",
        "colab": {}
      },
      "source": [
        "line = \" Google LLC is an American multinational technology company that specializes in Internet-related services and products. which include online advertising technologies, search engine, cloud computing, software, and hardware. \""
      ],
      "execution_count": 0,
      "outputs": []
    },
    {
      "cell_type": "code",
      "metadata": {
        "id": "OiHZGjkRjyUe",
        "colab_type": "code",
        "outputId": "05da89d8-685d-4a7b-b2f5-fc591194191c",
        "colab": {}
      },
      "source": [
        "print(line)\n",
        "line = line.strip()\n",
        "abc = line.split(\".\")\n",
        "#print(abc)\n"
      ],
      "execution_count": 0,
      "outputs": [
        {
          "output_type": "stream",
          "text": [
            " Google LLC is an American multinational technology company that specializes in Internet-related services and products. which include online advertising technologies, search engine, cloud computing, software, and hardware. \n"
          ],
          "name": "stdout"
        }
      ]
    },
    {
      "cell_type": "code",
      "metadata": {
        "id": "NDGEUvmDjyUl",
        "colab_type": "code",
        "colab": {}
      },
      "source": [
        "word = (abc[0].split(\" \"))"
      ],
      "execution_count": 0,
      "outputs": []
    },
    {
      "cell_type": "code",
      "metadata": {
        "id": "HVSGeZOOjyUn",
        "colab_type": "code",
        "outputId": "af576c7a-4c23-41c0-e06d-75794a7cf750",
        "colab": {}
      },
      "source": [
        "word[0]"
      ],
      "execution_count": 0,
      "outputs": [
        {
          "output_type": "execute_result",
          "data": {
            "text/plain": [
              "'Google'"
            ]
          },
          "metadata": {
            "tags": []
          },
          "execution_count": 23
        }
      ]
    },
    {
      "cell_type": "code",
      "metadata": {
        "id": "dbxpSYIujyUq",
        "colab_type": "code",
        "colab": {}
      },
      "source": [
        "ids = [\"9pti\", \"2plv\", \"1crn\"]"
      ],
      "execution_count": 0,
      "outputs": []
    },
    {
      "cell_type": "code",
      "metadata": {
        "id": "HH_IUpkujyUt",
        "colab_type": "code",
        "colab": {}
      },
      "source": [
        "ids.append(\"1alm\")"
      ],
      "execution_count": 0,
      "outputs": []
    },
    {
      "cell_type": "code",
      "metadata": {
        "id": "U3PMTJusjyU1",
        "colab_type": "code",
        "outputId": "a1df6f48-db8a-4641-c14c-1d91f9fa4337",
        "colab": {}
      },
      "source": [
        "ids\n"
      ],
      "execution_count": 0,
      "outputs": [
        {
          "output_type": "execute_result",
          "data": {
            "text/plain": [
              "['9pti', '2plv', '1crn', '1alm']"
            ]
          },
          "metadata": {
            "tags": []
          },
          "execution_count": 26
        }
      ]
    },
    {
      "cell_type": "code",
      "metadata": {
        "id": "6cBFmISpjyU4",
        "colab_type": "code",
        "colab": {}
      },
      "source": [
        "\n",
        "L = [\"2anm\", \"9mnp\"]\n",
        "ids.extend(L)\n"
      ],
      "execution_count": 0,
      "outputs": []
    },
    {
      "cell_type": "code",
      "metadata": {
        "id": "LlshZJmHjyU9",
        "colab_type": "code",
        "outputId": "f85a8855-ebb7-4bd3-afb4-095f85dd2773",
        "colab": {}
      },
      "source": [
        "del ids[0]\n",
        "\n",
        "ids.sort()\n",
        "print(ids)\n",
        "\n",
        "ids.reverse()\n",
        "print(ids)\n",
        "\n",
        "ids.insert(0, \"9pti\")\n",
        "print(ids)"
      ],
      "execution_count": 0,
      "outputs": [
        {
          "output_type": "stream",
          "text": [
            "['1alm', '1crn', '2anm', '2plv', '9mnp']\n",
            "['9mnp', '2plv', '2anm', '1crn', '1alm']\n",
            "['9pti', '9mnp', '2plv', '2anm', '1crn', '1alm']\n"
          ],
          "name": "stdout"
        }
      ]
    },
    {
      "cell_type": "code",
      "metadata": {
        "id": "YIisVSrfjyVC",
        "colab_type": "code",
        "outputId": "328e978b-78a6-4962-bfa5-8db5dffb156f",
        "colab": {}
      },
      "source": [
        "yellow = (255, 255, 0)\n",
        "\n",
        "one = (1,)\n",
        "\n",
        "yellow[0]\n",
        "\n",
        "yellow[1:]\n",
        "\n",
        "yellow[0]"
      ],
      "execution_count": 0,
      "outputs": [
        {
          "output_type": "execute_result",
          "data": {
            "text/plain": [
              "255"
            ]
          },
          "metadata": {
            "tags": []
          },
          "execution_count": 29
        }
      ]
    },
    {
      "cell_type": "code",
      "metadata": {
        "id": "9YQCnaokjyVF",
        "colab_type": "code",
        "colab": {}
      },
      "source": [
        "one = (1,)"
      ],
      "execution_count": 0,
      "outputs": []
    },
    {
      "cell_type": "code",
      "metadata": {
        "id": "ZdiwDnxnjyVH",
        "colab_type": "code",
        "outputId": "7439a7bc-aa06-486f-c9c4-7a75a631fe71",
        "colab": {}
      },
      "source": [
        "print(\"%s lives in %s at lattitide %0.1f\" % (\"andrew\", \"Sweden\", 57.5454))"
      ],
      "execution_count": 0,
      "outputs": [
        {
          "output_type": "stream",
          "text": [
            "andrew lives in Sweden at lattitide 57.5\n"
          ],
          "name": "stdout"
        }
      ]
    },
    {
      "cell_type": "code",
      "metadata": {
        "id": "iK3Q9auRjyVJ",
        "colab_type": "code",
        "colab": {}
      },
      "source": [
        "names = [\"one\", \"two\", \"three\"]"
      ],
      "execution_count": 0,
      "outputs": []
    },
    {
      "cell_type": "code",
      "metadata": {
        "id": "9W6p6uzTjyVL",
        "colab_type": "code",
        "colab": {}
      },
      "source": [
        "gender = [1, 2, 3]"
      ],
      "execution_count": 0,
      "outputs": []
    },
    {
      "cell_type": "code",
      "metadata": {
        "id": "wm-SBMV8jyVN",
        "colab_type": "code",
        "colab": {}
      },
      "source": [
        "abc = zip(names, gender)"
      ],
      "execution_count": 0,
      "outputs": []
    },
    {
      "cell_type": "code",
      "metadata": {
        "id": "nfcGu23JjyVS",
        "colab_type": "code",
        "outputId": "5f216e8c-a8ad-4a66-f297-80f2bb11fabd",
        "colab": {}
      },
      "source": [
        "abc"
      ],
      "execution_count": 0,
      "outputs": [
        {
          "output_type": "execute_result",
          "data": {
            "text/plain": [
              "<zip at 0xb2155ebb08>"
            ]
          },
          "metadata": {
            "tags": []
          },
          "execution_count": 35
        }
      ]
    },
    {
      "cell_type": "code",
      "metadata": {
        "id": "fAd1drgZjyVU",
        "colab_type": "code",
        "outputId": "319ea3a5-f917-4b3b-8130-61f5f94025d4",
        "colab": {}
      },
      "source": [
        "for i in abc:\n",
        "    print(i)"
      ],
      "execution_count": 0,
      "outputs": [
        {
          "output_type": "stream",
          "text": [
            "('one', 1)\n",
            "('two', 2)\n",
            "('three', 3)\n"
          ],
          "name": "stdout"
        }
      ]
    },
    {
      "cell_type": "code",
      "metadata": {
        "id": "qBFNoCanjyVY",
        "colab_type": "code",
        "outputId": "c73b543c-8b0a-41d7-b78a-2049751f7533",
        "colab": {}
      },
      "source": [
        "atomic_number = {\"H\":\"Hydrogen\", \"He\":\"Helium\", \"Li\": \"Lithium\", \"C\":\"Carbon\", \"O\": \"Oxygen\", \"N\": \"Nitrogen\" }\n",
        "atomic_number"
      ],
      "execution_count": 0,
      "outputs": [
        {
          "output_type": "execute_result",
          "data": {
            "text/plain": [
              "{'C': 'Carbon',\n",
              " 'H': 'Hydrogen',\n",
              " 'He': 'Helium',\n",
              " 'Li': 'Lithium',\n",
              " 'N': 'Nitrogen',\n",
              " 'O': 'Oxygen'}"
            ]
          },
          "metadata": {
            "tags": []
          },
          "execution_count": 37
        }
      ]
    },
    {
      "cell_type": "code",
      "metadata": {
        "id": "49KMUuTsjyVa",
        "colab_type": "code",
        "outputId": "b2d955a3-33b4-4425-f0dc-5ab0a551a132",
        "colab": {}
      },
      "source": [
        "type(atomic_number)"
      ],
      "execution_count": 0,
      "outputs": [
        {
          "output_type": "execute_result",
          "data": {
            "text/plain": [
              "dict"
            ]
          },
          "metadata": {
            "tags": []
          },
          "execution_count": 38
        }
      ]
    },
    {
      "cell_type": "code",
      "metadata": {
        "id": "G1l6-IwPjyVd",
        "colab_type": "code",
        "outputId": "346e48e1-2695-44ed-9dfc-f04a8a229d05",
        "colab": {}
      },
      "source": [
        "atomic_number = {1:\"Hydrogen\", 2:\"Helium\", 3: \"Lithium\", 4:\"Carbon\", 5: \"Oxygen\", 5: \"Nitrogen\" }\n",
        "atomic_number"
      ],
      "execution_count": 0,
      "outputs": [
        {
          "output_type": "execute_result",
          "data": {
            "text/plain": [
              "{1: 'Hydrogen', 2: 'Helium', 3: 'Lithium', 4: 'Carbon', 5: 'Nitrogen'}"
            ]
          },
          "metadata": {
            "tags": []
          },
          "execution_count": 39
        }
      ]
    },
    {
      "cell_type": "code",
      "metadata": {
        "id": "qQlwVpPvjyVf",
        "colab_type": "code",
        "outputId": "9c0053c5-0320-4914-fd2d-7c47792c6762",
        "colab": {}
      },
      "source": [
        "mode = \"absolute\"\n",
        "if mode == \"canonincal\":\n",
        "    smiles = \"canonical\"\n",
        "    print(smiles)\n",
        "elif mode == \"isomeric\":\n",
        "    smiles = \"isomeric\"\n",
        "    print(smiles)\n",
        "elif mode == \"absolute\":\n",
        "        smiles = \"absolute\"\n",
        "        print(smiles)\n",
        "else:\n",
        "    raise TypeError(\"unknown Mode\")"
      ],
      "execution_count": 0,
      "outputs": [
        {
          "output_type": "stream",
          "text": [
            "absolute\n"
          ],
          "name": "stdout"
        }
      ]
    },
    {
      "cell_type": "code",
      "metadata": {
        "id": "VE_Qen_OjyVz",
        "colab_type": "code",
        "outputId": "3366e675-1be4-476c-9234-6a1bcc545d4a",
        "colab": {}
      },
      "source": [
        "str1 = \"Sumit yadav\"\n",
        "\n",
        "if \"Sumit\" in str1:\n",
        "    print(\"name mached\")\n",
        "else:\n",
        "    print(\"No match\")"
      ],
      "execution_count": 0,
      "outputs": [
        {
          "output_type": "stream",
          "text": [
            "name mached\n"
          ],
          "name": "stdout"
        }
      ]
    },
    {
      "cell_type": "code",
      "metadata": {
        "id": "vsQvFLFtjyV4",
        "colab_type": "code",
        "colab": {}
      },
      "source": [
        "def match_fuction(text,abc):\n",
        "    if text.find(str(abc))>=0:\n",
        "        print(\"name mached\")\n",
        "    else:\n",
        "        print(\"No match\")"
      ],
      "execution_count": 0,
      "outputs": []
    },
    {
      "cell_type": "code",
      "metadata": {
        "id": "We-Ewww0jyWH",
        "colab_type": "code",
        "outputId": "a67b5e2d-9296-43b8-bfde-c0b9900d3f5d",
        "colab": {}
      },
      "source": [
        "match_fuction(str1,\"mayank\")"
      ],
      "execution_count": 0,
      "outputs": [
        {
          "output_type": "stream",
          "text": [
            "No match\n"
          ],
          "name": "stdout"
        }
      ]
    },
    {
      "cell_type": "code",
      "metadata": {
        "id": "pTlqxT2PjyWJ",
        "colab_type": "code",
        "colab": {}
      },
      "source": [
        "def print_series(a,b):\n",
        "    for i in range(a,b+1):\n",
        "        print(i)"
      ],
      "execution_count": 0,
      "outputs": []
    },
    {
      "cell_type": "code",
      "metadata": {
        "id": "yUxJh7_KjyWN",
        "colab_type": "code",
        "outputId": "9027d313-b365-4672-84da-758149425b97",
        "colab": {}
      },
      "source": [
        "print_series(1,10)"
      ],
      "execution_count": 0,
      "outputs": [
        {
          "output_type": "stream",
          "text": [
            "1\n",
            "2\n",
            "3\n",
            "4\n",
            "5\n",
            "6\n",
            "7\n",
            "8\n",
            "9\n",
            "10\n"
          ],
          "name": "stdout"
        }
      ]
    },
    {
      "cell_type": "code",
      "metadata": {
        "id": "IUL06Y4PjyWQ",
        "colab_type": "code",
        "colab": {}
      },
      "source": [
        "str1 = \"He is a good boy\"\n",
        "str2 = \"He is fast in coding\"\n",
        "\n",
        "\n"
      ],
      "execution_count": 0,
      "outputs": []
    },
    {
      "cell_type": "code",
      "metadata": {
        "id": "t-7vmKsAjyWR",
        "colab_type": "code",
        "colab": {}
      },
      "source": [
        "def match_words(string1, string2):\n",
        "    temp = string1.split()\n",
        "    for i in temp:\n",
        "        if string2.find(i)>=0:\n",
        "            print(\"Found %s at\"%i,string2.find(i))"
      ],
      "execution_count": 0,
      "outputs": []
    },
    {
      "cell_type": "code",
      "metadata": {
        "id": "OY_zA6u6jyWW",
        "colab_type": "code",
        "outputId": "850ed271-718c-4be0-a774-c89230b61bc0",
        "colab": {}
      },
      "source": [
        "match_words(str1,str2)"
      ],
      "execution_count": 0,
      "outputs": [
        {
          "output_type": "stream",
          "text": [
            "Fount He at 0\n",
            "Fount is at 3\n",
            "Fount a at 7\n"
          ],
          "name": "stdout"
        }
      ]
    },
    {
      "cell_type": "code",
      "metadata": {
        "id": "1frCPjQhjyWY",
        "colab_type": "code",
        "outputId": "1ccaa1e1-1372-4ceb-9373-ca1ae6f6a69f",
        "colab": {}
      },
      "source": [
        "f = open(\"data.txt\")\n",
        "str3 = f.read()\n",
        "print(str3)"
      ],
      "execution_count": 0,
      "outputs": [
        {
          "output_type": "stream",
          "text": [
            "Google LLC is an American multinational technology company that specializes in Internet-related services and products, which include online advertising technologies, search engine, cloud computing, software, and hardware.\n",
            "It is considered one of the Big Four technology companies, alongside Amazon, Apple and Facebook.\n"
          ],
          "name": "stdout"
        }
      ]
    },
    {
      "cell_type": "code",
      "metadata": {
        "id": "Gp2YH147jyWb",
        "colab_type": "code",
        "colab": {}
      },
      "source": [
        "string = \"He is a good boy\"\n",
        "word = \"He\"\n",
        "\n",
        "\n",
        "            \n"
      ],
      "execution_count": 0,
      "outputs": []
    },
    {
      "cell_type": "code",
      "metadata": {
        "id": "eh2GJ3d8jyWd",
        "colab_type": "code",
        "colab": {}
      },
      "source": [
        "\n",
        "def match_words(string1, string2):\n",
        "    temp = string1.split()\n",
        "    for i in temp:\n",
        "        if string2.find(i)>=0:\n",
        "            print(\"Found %s at\"%i,string2.find(i))"
      ],
      "execution_count": 0,
      "outputs": []
    },
    {
      "cell_type": "code",
      "metadata": {
        "id": "Kyl6HFr4jyWg",
        "colab_type": "code",
        "outputId": "d271523b-c305-4679-9091-5b5743168413",
        "colab": {
          "base_uri": "https://localhost:8080/",
          "height": 34
        }
      },
      "source": [
        "match_words(string,word)"
      ],
      "execution_count": 0,
      "outputs": [
        {
          "output_type": "stream",
          "text": [
            "Found He at 0\n"
          ],
          "name": "stdout"
        }
      ]
    },
    {
      "cell_type": "code",
      "metadata": {
        "id": "QVqt7bhZjyWi",
        "colab_type": "code",
        "colab": {}
      },
      "source": [
        "text = 'This is car'\n",
        "word = 'is'\n",
        "replace_word = 'is not'"
      ],
      "execution_count": 0,
      "outputs": []
    },
    {
      "cell_type": "code",
      "metadata": {
        "id": "8X3YO_yljyWn",
        "colab_type": "code",
        "outputId": "59c867c0-ea0b-484a-baac-9d13f6d2f96c",
        "colab": {
          "base_uri": "https://localhost:8080/",
          "height": 34
        }
      },
      "source": [
        "def find_word(text,word):\n",
        "  words = text.split(\" \")\n",
        "  words = words.index(word)\n",
        "  print(words)\n",
        "  \n",
        "  \n",
        "find_word(text,word)"
      ],
      "execution_count": 0,
      "outputs": [
        {
          "output_type": "stream",
          "text": [
            "1\n"
          ],
          "name": "stdout"
        }
      ]
    },
    {
      "cell_type": "code",
      "metadata": {
        "id": "CXrAVlrSjyWp",
        "colab_type": "code",
        "outputId": "c140038f-517f-4bd8-ed2b-855473b392a4",
        "colab": {
          "base_uri": "https://localhost:8080/",
          "height": 51
        }
      },
      "source": [
        "def find_word(text,word):\n",
        "  words = text.split(\" \")\n",
        "  print(type(words))\n",
        "  words[words.index(word)] = replace_word\n",
        "  print(words)\n",
        "  \n",
        "  \n",
        "find_word(text,word)"
      ],
      "execution_count": 0,
      "outputs": [
        {
          "output_type": "stream",
          "text": [
            "<class 'list'>\n",
            "['This', 'is not', 'car']\n"
          ],
          "name": "stdout"
        }
      ]
    },
    {
      "cell_type": "code",
      "metadata": {
        "id": "PoJrZFUvrthl",
        "colab_type": "code",
        "colab": {}
      },
      "source": [
        "text = 'This is my car'\n",
        "word = 'is'"
      ],
      "execution_count": 0,
      "outputs": []
    },
    {
      "cell_type": "code",
      "metadata": {
        "id": "k067VNl3sr24",
        "colab_type": "code",
        "outputId": "afa06598-f18b-4e54-841e-3a3420d45dc2",
        "colab": {
          "base_uri": "https://localhost:8080/",
          "height": 51
        }
      },
      "source": [
        "def func(text, word):\n",
        "  words = text.split()\n",
        "  print(words.index(word))\n",
        "  print(words)\n",
        "  \n",
        "  \n",
        "  \n",
        "func(text, word)"
      ],
      "execution_count": 0,
      "outputs": [
        {
          "output_type": "stream",
          "text": [
            "1\n",
            "['This', 'is', 'my', 'car']\n"
          ],
          "name": "stdout"
        }
      ]
    }
  ]
}