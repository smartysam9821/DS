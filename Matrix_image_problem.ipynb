{
  "nbformat": 4,
  "nbformat_minor": 0,
  "metadata": {
    "colab": {
      "name": "Untitled5.ipynb",
      "version": "0.3.2",
      "provenance": [],
      "include_colab_link": true
    },
    "kernelspec": {
      "name": "python3",
      "display_name": "Python 3"
    }
  },
  "cells": [
    {
      "cell_type": "markdown",
      "metadata": {
        "id": "view-in-github",
        "colab_type": "text"
      },
      "source": [
        "<a href=\"https://colab.research.google.com/github/smartysam9821/DS/blob/master/Matrix_image_problem.ipynb\" target=\"_parent\"><img src=\"https://colab.research.google.com/assets/colab-badge.svg\" alt=\"Open In Colab\"/></a>"
      ]
    },
    {
      "cell_type": "code",
      "metadata": {
        "id": "y3diwVGlAR_G",
        "colab_type": "code",
        "outputId": "538b6fc4-f25a-4c45-9f77-fb811fc34920",
        "colab": {
          "base_uri": "https://localhost:8080/",
          "height": 319
        }
      },
      "source": [
        "import numpy as np\n",
        "import matplotlib.pyplot as plt\n",
        "a = np.random.randint(255, size=(10,5))\n",
        "mean = np.mean(a)\n",
        "median = np.median(a)\n",
        "print(mean)\n",
        "print(median)\n",
        "\n",
        "plt.imshow(a, cmap='gray', interpolation='nearest')\n",
        "\n",
        "plt.show()\n",
        "\n",
        "#plt.hist(a)\n",
        "len"
      ],
      "execution_count": 1,
      "outputs": [
        {
          "output_type": "stream",
          "text": [
            "128.8\n",
            "130.5\n"
          ],
          "name": "stdout"
        },
        {
          "output_type": "display_data",
          "data": {
            "image/png": "[encoded data removed]",
            "text/plain": [
              "<Figure size 432x288 with 1 Axes>"
            ]
          },
          "metadata": {
            "tags": []
          }
        },
        {
          "output_type": "execute_result",
          "data": {
            "text/plain": [
              "<function len>"
            ]
          },
          "metadata": {
            "tags": []
          },
          "execution_count": 1
        }
      ]
    },
    {
      "cell_type": "code",
      "metadata": {
        "id": "6XipU8ldBXNs",
        "colab_type": "code",
        "outputId": "9db3e385-e670-41a3-e437-ba4b832e6391",
        "colab": {
          "base_uri": "https://localhost:8080/",
          "height": 302
        }
      },
      "source": [
        "\n",
        "b = np.random.randint(255, size=(10,5))\n",
        "mean = np.mean(b)\n",
        "median = np.median(b)\n",
        "print(mean)\n",
        "print(median)\n",
        "\n",
        "plt.imshow(b, cmap='gray', interpolation='nearest')\n",
        "\n",
        "plt.show()\n",
        "\n",
        "#plt.hist(b)"
      ],
      "execution_count": 2,
      "outputs": [
        {
          "output_type": "stream",
          "text": [
            "134.54\n",
            "133.5\n"
          ],
          "name": "stdout"
        },
        {
          "output_type": "display_data",
          "data": {
            "image/png": "[encoded data removed]",
            "text/plain": [
              "<Figure size 432x288 with 1 Axes>"
            ]
          },
          "metadata": {
            "tags": []
          }
        }
      ]
    },
    {
      "cell_type": "code",
      "metadata": {
        "id": "mXcx92n1EV19",
        "colab_type": "code",
        "outputId": "7f658c32-ef12-498b-c3ba-53e22b2cfdc5",
        "colab": {
          "base_uri": "https://localhost:8080/",
          "height": 185
        }
      },
      "source": [
        "b"
      ],
      "execution_count": 3,
      "outputs": [
        {
          "output_type": "execute_result",
          "data": {
            "text/plain": [
              "array([[213, 150, 101, 228, 158],\n",
              "       [ 89, 100,  93,   5,  23],\n",
              "       [ 41, 136, 235, 183, 214],\n",
              "       [121, 110, 227,   4, 197],\n",
              "       [ 40, 209, 114, 180,  65],\n",
              "       [202,  72, 165,  54, 209],\n",
              "       [147, 167, 211, 132, 237],\n",
              "       [ 76, 247, 135, 231, 110],\n",
              "       [ 23, 184, 250,  27, 108],\n",
              "       [ 48, 206,  90,  46, 114]])"
            ]
          },
          "metadata": {
            "tags": []
          },
          "execution_count": 3
        }
      ]
    },
    {
      "cell_type": "code",
      "metadata": {
        "id": "nn-mURgxB4lV",
        "colab_type": "code",
        "outputId": "ff1a0821-4ca9-4d9f-d959-4a3325629245",
        "colab": {
          "base_uri": "https://localhost:8080/",
          "height": 185
        }
      },
      "source": [
        "c = np.concatenate((a,b), 1)\n",
        "c"
      ],
      "execution_count": 4,
      "outputs": [
        {
          "output_type": "execute_result",
          "data": {
            "text/plain": [
              "array([[ 65, 242, 185,  80,  55, 213, 150, 101, 228, 158],\n",
              "       [105, 147, 197, 133,  84,  89, 100,  93,   5,  23],\n",
              "       [143,  37, 191, 167, 103,  41, 136, 235, 183, 214],\n",
              "       [ 98,  60,  83,  86,  77, 121, 110, 227,   4, 197],\n",
              "       [ 25, 114, 188, 221,  11,  40, 209, 114, 180,  65],\n",
              "       [106, 138, 236,  61, 202, 202,  72, 165,  54, 209],\n",
              "       [225,  73, 216,   3, 134, 147, 167, 211, 132, 237],\n",
              "       [194, 183,  66,   3, 114,  76, 247, 135, 231, 110],\n",
              "       [230, 246, 236, 159,  43,  23, 184, 250,  27, 108],\n",
              "       [131, 148, 130, 113, 153,  48, 206,  90,  46, 114]])"
            ]
          },
          "metadata": {
            "tags": []
          },
          "execution_count": 4
        }
      ]
    },
    {
      "cell_type": "code",
      "metadata": {
        "id": "GSCByjaPDG0u",
        "colab_type": "code",
        "outputId": "42cf30db-c028-493a-9bdd-cc8982629df6",
        "colab": {
          "base_uri": "https://localhost:8080/",
          "height": 269
        }
      },
      "source": [
        "plt.imshow(c, cmap='gray', interpolation='nearest')\n",
        "plt.show()"
      ],
      "execution_count": 5,
      "outputs": [
        {
          "output_type": "display_data",
          "data": {
            "image/png": "[encoded data removed]",
            "text/plain": [
              "<Figure size 432x288 with 1 Axes>"
            ]
          },
          "metadata": {
            "tags": []
          }
        }
      ]
    },
    {
      "cell_type": "code",
      "metadata": {
        "id": "A0SDz2AXIWiK",
        "colab_type": "code",
        "outputId": "9e0d1964-34d9-444f-b3fa-e3a3ccf69a1e",
        "colab": {
          "base_uri": "https://localhost:8080/",
          "height": 101
        }
      },
      "source": [
        "d=int(len(c)/2)\n",
        "#print(d)\n",
        "\n",
        "# first part\n",
        "c[:d,:d]\n",
        "#c[:int(len(c)/2)+1]\n"
      ],
      "execution_count": 25,
      "outputs": [
        {
          "output_type": "execute_result",
          "data": {
            "text/plain": [
              "array([[ 65, 242, 185,  80,  55],\n",
              "       [105, 147, 197, 133,  84],\n",
              "       [143,  37, 191, 167, 103],\n",
              "       [ 98,  60,  83,  86,  77],\n",
              "       [ 25, 114, 188, 221,  11]])"
            ]
          },
          "metadata": {
            "tags": []
          },
          "execution_count": 25
        }
      ]
    },
    {
      "cell_type": "code",
      "metadata": {
        "id": "eZ_MDPjQKiOa",
        "colab_type": "code",
        "outputId": "4c739f2a-8853-4a37-c4bf-1032af9845b8",
        "colab": {
          "base_uri": "https://localhost:8080/",
          "height": 101
        }
      },
      "source": [
        "#forth part\n",
        "c[d:,d:]"
      ],
      "execution_count": 22,
      "outputs": [
        {
          "output_type": "execute_result",
          "data": {
            "text/plain": [
              "array([[202,  72, 165,  54, 209],\n",
              "       [147, 167, 211, 132, 237],\n",
              "       [ 76, 247, 135, 231, 110],\n",
              "       [ 23, 184, 250,  27, 108],\n",
              "       [ 48, 206,  90,  46, 114]])"
            ]
          },
          "metadata": {
            "tags": []
          },
          "execution_count": 22
        }
      ]
    },
    {
      "cell_type": "code",
      "metadata": {
        "id": "VfxTLVUqOyji",
        "colab_type": "code",
        "outputId": "41db7c96-d806-41fc-fdb8-7552046a9f7b",
        "colab": {
          "base_uri": "https://localhost:8080/",
          "height": 101
        }
      },
      "source": [
        "\n",
        "#third part\n",
        "c[d:,:d]"
      ],
      "execution_count": 23,
      "outputs": [
        {
          "output_type": "execute_result",
          "data": {
            "text/plain": [
              "array([[106, 138, 236,  61, 202],\n",
              "       [225,  73, 216,   3, 134],\n",
              "       [194, 183,  66,   3, 114],\n",
              "       [230, 246, 236, 159,  43],\n",
              "       [131, 148, 130, 113, 153]])"
            ]
          },
          "metadata": {
            "tags": []
          },
          "execution_count": 23
        }
      ]
    },
    {
      "cell_type": "code",
      "metadata": {
        "id": "FJSs_FgmQOPn",
        "colab_type": "code",
        "outputId": "dd7c4d41-e806-40f8-f3ee-93fa151252ce",
        "colab": {
          "base_uri": "https://localhost:8080/",
          "height": 101
        }
      },
      "source": [
        "# second part\n",
        "c[:d,d:]"
      ],
      "execution_count": 24,
      "outputs": [
        {
          "output_type": "execute_result",
          "data": {
            "text/plain": [
              "array([[213, 150, 101, 228, 158],\n",
              "       [ 89, 100,  93,   5,  23],\n",
              "       [ 41, 136, 235, 183, 214],\n",
              "       [121, 110, 227,   4, 197],\n",
              "       [ 40, 209, 114, 180,  65]])"
            ]
          },
          "metadata": {
            "tags": []
          },
          "execution_count": 24
        }
      ]
    },
    {
      "cell_type": "code",
      "metadata": {
        "id": "NcKxVh2MXm0h",
        "colab_type": "code",
        "colab": {
          "base_uri": "https://localhost:8080/",
          "height": 595
        },
        "outputId": "1cf281b6-205f-4d19-ee07-dc66dc71e88e"
      },
      "source": [
        "fig = plt.figure(figsize=(15,10))\n",
        "fig.subplots_adjust(hspace=0.1, wspace=0.1, )\n",
        "    \n",
        "  \n",
        "ax = plt.subplot2grid((2, 2), (0, 0))\n",
        "plt.hist(c[:d,:d])\n",
        "\n",
        "ax = plt.subplot2grid((2, 2), (0, 1))\n",
        "plt.hist(c[:d,d:])\n",
        "\n",
        "\n",
        "ax = plt.subplot2grid((2, 2), (1, 0))\n",
        "plt.hist(c[d:,:d])\n",
        "\n",
        "\n",
        "ax = plt.subplot2grid((2, 2), (1, 1))\n",
        "plt.hist(c[d:,d:])\n",
        "\n",
        "plt.show()"
      ],
      "execution_count": 16,
      "outputs": [
        {
          "output_type": "display_data",
          "data": {
            "image/png": "[encoded data removed]",
            "text/plain": [
              "<Figure size 1080x720 with 4 Axes>"
            ]
          },
          "metadata": {
            "tags": []
          }
        }
      ]
    },
    {
      "cell_type": "code",
      "metadata": {
        "id": "Lq0C1pQzQ6OA",
        "colab_type": "code",
        "outputId": "7ea6949c-b8b0-4c8e-83ec-c9ec9953369d",
        "colab": {
          "base_uri": "https://localhost:8080/",
          "height": 595
        }
      },
      "source": [
        "fig = plt.figure(figsize=(10,10))\n",
        "fig.subplots_adjust(hspace=0.05, wspace=0.05, )\n",
        "    \n",
        "  \n",
        "ax = plt.subplot2grid((2, 2), (0, 0))\n",
        "plt.imshow(c[:d,:d], cmap='gray', interpolation='nearest')\n",
        "\n",
        "ax = plt.subplot2grid((2, 2), (0, 1))\n",
        "plt.imshow(c[:d,d:], cmap='gray', interpolation='nearest')\n",
        "\n",
        "\n",
        "ax = plt.subplot2grid((2, 2), (1, 0))\n",
        "plt.imshow(c[d:,:d], cmap='gray', interpolation='nearest')\n",
        "\n",
        "\n",
        "ax = plt.subplot2grid((2, 2), (1, 1))\n",
        "plt.imshow(c[d:,d:], cmap='gray', interpolation='nearest')\n",
        "\n",
        "plt.show()"
      ],
      "execution_count": 20,
      "outputs": [
        {
          "output_type": "display_data",
          "data": {
            "image/png": "[encoded data removed]",
            "text/plain": [
              "<Figure size 720x720 with 4 Axes>"
            ]
          },
          "metadata": {
            "tags": []
          }
        }
      ]
    },
    {
      "cell_type": "code",
      "metadata": {
        "id": "pz2xBzyVUInY",
        "colab_type": "code",
        "colab": {}
      },
      "source": [
        ""
      ],
      "execution_count": 0,
      "outputs": []
    }
  ]
}