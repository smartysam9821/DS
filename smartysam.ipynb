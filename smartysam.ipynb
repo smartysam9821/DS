{
  "nbformat": 4,
  "nbformat_minor": 0,
  "metadata": {
    "colab": {
      "name": "smartysam.ipynb",
      "version": "0.3.2",
      "provenance": [],
      "include_colab_link": true
    },
    "kernelspec": {
      "name": "python3",
      "display_name": "Python 3"
    }
  },
  "cells": [
    {
      "cell_type": "markdown",
      "metadata": {
        "id": "view-in-github",
        "colab_type": "text"
      },
      "source": [
        "<a href=\"https://colab.research.google.com/github/smartysam9821/DS/blob/master/smartysam.ipynb\" target=\"_parent\"><img src=\"https://colab.research.google.com/assets/colab-badge.svg\" alt=\"Open In Colab\"/></a>"
      ]
    },
    {
      "cell_type": "code",
      "metadata": {
        "id": "WX9Q5okSd_R5",
        "colab_type": "code",
        "colab": {}
      },
      "source": [
        "import numpy as np\n",
        "import pandas as pd"
      ],
      "execution_count": 0,
      "outputs": []
    },
    {
      "cell_type": "code",
      "metadata": {
        "id": "BOLzaJK-eFmr",
        "colab_type": "code",
        "colab": {}
      },
      "source": [
        "df= pd.read_excel('depression.xls')"
      ],
      "execution_count": 0,
      "outputs": []
    },
    {
      "cell_type": "code",
      "metadata": {
        "id": "1L_MH22ieEdd",
        "colab_type": "code",
        "outputId": "586dfdc6-4354-4276-98af-c052b2318208",
        "colab": {
          "base_uri": "https://localhost:8080/",
          "height": 204
        }
      },
      "source": [
        "df.head()"
      ],
      "execution_count": 0,
      "outputs": [
        {
          "output_type": "execute_result",
          "data": {
            "text/html": [
              "<div>\n",
              "<style scoped>\n",
              "    .dataframe tbody tr th:only-of-type {\n",
              "        vertical-align: middle;\n",
              "    }\n",
              "\n",
              "    .dataframe tbody tr th {\n",
              "        vertical-align: top;\n",
              "    }\n",
              "\n",
              "    .dataframe thead th {\n",
              "        text-align: right;\n",
              "    }\n",
              "</style>\n",
              "<table border=\"1\" class=\"dataframe\">\n",
              "  <thead>\n",
              "    <tr style=\"text-align: right;\">\n",
              "      <th></th>\n",
              "      <th>Hospt</th>\n",
              "      <th>Treat</th>\n",
              "      <th>Outcome</th>\n",
              "      <th>Time</th>\n",
              "      <th>AcuteT</th>\n",
              "      <th>Age</th>\n",
              "      <th>Gender</th>\n",
              "    </tr>\n",
              "  </thead>\n",
              "  <tbody>\n",
              "    <tr>\n",
              "      <th>0</th>\n",
              "      <td>1</td>\n",
              "      <td>Lithium</td>\n",
              "      <td>Recurrence</td>\n",
              "      <td>36.143</td>\n",
              "      <td>211</td>\n",
              "      <td>33</td>\n",
              "      <td>1</td>\n",
              "    </tr>\n",
              "    <tr>\n",
              "      <th>1</th>\n",
              "      <td>1</td>\n",
              "      <td>Imipramine</td>\n",
              "      <td>No Recurrence</td>\n",
              "      <td>105.143</td>\n",
              "      <td>176</td>\n",
              "      <td>49</td>\n",
              "      <td>1</td>\n",
              "    </tr>\n",
              "    <tr>\n",
              "      <th>2</th>\n",
              "      <td>1</td>\n",
              "      <td>Imipramine</td>\n",
              "      <td>No Recurrence</td>\n",
              "      <td>74.571</td>\n",
              "      <td>191</td>\n",
              "      <td>50</td>\n",
              "      <td>1</td>\n",
              "    </tr>\n",
              "    <tr>\n",
              "      <th>3</th>\n",
              "      <td>1</td>\n",
              "      <td>Lithium</td>\n",
              "      <td>Recurrence</td>\n",
              "      <td>49.714</td>\n",
              "      <td>206</td>\n",
              "      <td>29</td>\n",
              "      <td>2</td>\n",
              "    </tr>\n",
              "    <tr>\n",
              "      <th>4</th>\n",
              "      <td>1</td>\n",
              "      <td>Lithium</td>\n",
              "      <td>No Recurrence</td>\n",
              "      <td>14.429</td>\n",
              "      <td>63</td>\n",
              "      <td>29</td>\n",
              "      <td>1</td>\n",
              "    </tr>\n",
              "  </tbody>\n",
              "</table>\n",
              "</div>"
            ],
            "text/plain": [
              "   Hospt       Treat        Outcome     Time  AcuteT  Age  Gender\n",
              "0      1     Lithium     Recurrence   36.143     211   33       1\n",
              "1      1  Imipramine  No Recurrence  105.143     176   49       1\n",
              "2      1  Imipramine  No Recurrence   74.571     191   50       1\n",
              "3      1     Lithium     Recurrence   49.714     206   29       2\n",
              "4      1     Lithium  No Recurrence   14.429      63   29       1"
            ]
          },
          "metadata": {
            "tags": []
          },
          "execution_count": 47
        }
      ]
    },
    {
      "cell_type": "code",
      "metadata": {
        "id": "Ok-cdg7ughQZ",
        "colab_type": "code",
        "outputId": "da68bf59-56b7-42b4-fd8b-ea883b257b0c",
        "colab": {
          "base_uri": "https://localhost:8080/",
          "height": 34
        }
      },
      "source": [
        "df.shape"
      ],
      "execution_count": 0,
      "outputs": [
        {
          "output_type": "execute_result",
          "data": {
            "text/plain": [
              "(109, 7)"
            ]
          },
          "metadata": {
            "tags": []
          },
          "execution_count": 48
        }
      ]
    },
    {
      "cell_type": "code",
      "metadata": {
        "id": "ZLX-tJm6cLaO",
        "colab_type": "code",
        "colab": {}
      },
      "source": [
        "def univariate(df):\n",
        "  columns = [c for i, c in enumerate(df.columns) if df.dtypes[i] in [np.object, np.int,np.float]]\n",
        "  cat = []\n",
        "  quant = []\n",
        "  \n",
        "  for i in columns:\n",
        "    if len(np.unique(df[i])) < df.shape[0]/10:\n",
        "      cat.append(i)\n",
        "    else:\n",
        "      quant.append(i)\n",
        "  \n",
        "  def stat():\n",
        "    dframe = pd.DataFrame()\n",
        "    for i in quant:\n",
        "      data = {'mean :':np.mean(df[i]),'median: ':df[i].median()}\n",
        "      dframe.append(data, ignore_index=True)\n",
        "    \n",
        "    return dframe\n",
        "     \n",
        "  \n",
        "  "
      ],
      "execution_count": 0,
      "outputs": []
    },
    {
      "cell_type": "code",
      "metadata": {
        "id": "FYUUQaeNd_p_",
        "colab_type": "code",
        "colab": {}
      },
      "source": [
        "univariate(df)"
      ],
      "execution_count": 0,
      "outputs": []
    },
    {
      "cell_type": "code",
      "metadata": {
        "id": "0sumN1c2toDB",
        "colab_type": "code",
        "colab": {}
      },
      "source": [
        ""
      ],
      "execution_count": 0,
      "outputs": []
    }
  ]
}